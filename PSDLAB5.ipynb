{
  "nbformat": 4,
  "nbformat_minor": 0,
  "metadata": {
    "colab": {
      "provenance": [],
      "authorship_tag": "ABX9TyOcpfz+wuLwgkPU3PZRArru",
      "include_colab_link": true
    },
    "kernelspec": {
      "name": "python3",
      "display_name": "Python 3"
    },
    "language_info": {
      "name": "python"
    }
  },
  "cells": [
    {
      "cell_type": "markdown",
      "metadata": {
        "id": "view-in-github",
        "colab_type": "text"
      },
      "source": [
        "<a href=\"https://colab.research.google.com/github/2303A51801/Datascience-3-2/blob/main/PSDLAB5.ipynb\" target=\"_parent\"><img src=\"https://colab.research.google.com/assets/colab-badge.svg\" alt=\"Open In Colab\"/></a>"
      ]
    },
    {
      "cell_type": "code",
      "execution_count": 1,
      "metadata": {
        "id": "kVBkDro8riPR"
      },
      "outputs": [],
      "source": [
        "import pandas as pd"
      ]
    },
    {
      "cell_type": "code",
      "source": [
        "customers = pd.DataFrame({\n",
        " 'customer_id': [101, 102, 103, 104, 105],\n",
        " 'name': ['Ram', 'Jai', 'charan', 'Dev', 'kam'],\n",
        " 'city': ['Mumbai', 'Delhi', 'Mumbai', 'Chennai', 'Delhi']  })\n",
        "# Step 2: Create Transactions Dataset\n",
        "transactions = pd.DataFrame({\n",
        " 'transaction_id': [1, 2, 3, 4, 5, 6, 7],\n",
        " 'customer_id': [101, 102, 103, 101, 104, 102, 105],\n",
        " 'amount': [200, 150, 300, 450, 500, 100, 250]\n",
        " })\n",
        "# Step 3: Merge on customer_id\n",
        "merged_df = pd.merge(transactions, customers, on='customer_id')\n",
        "print(\"⯑ Merged Dataset:\")\n",
        "print(merged_df)\n",
        "# Step 4: Total Spend per Customer\n",
        "total_spend = merged_df.groupby(['customer_id', 'name'])['amount'].sum().reset_index()\n",
        "print(\"\\n⯑ Total Spend per Customer:\")\n",
        "print(total_spend)\n",
        "# Step 5: City-wise Spending\n",
        "city_spend = pd.merge(total_spend, customers[['customer_id', 'city']], on='customer_id')\n",
        "city_summary = city_spend.groupby('city')['amount'].sum().reset_index()\n",
        "print(\"\\n⯑ City-wise Spending:\")\n",
        "print(city_summary)\n",
        "# Step 6: Top Spender\n",
        "top_spender = total_spend.sort_values(by='amount', ascending=False).head(1)\n",
        "print(\"\\n⯑ Top Spender:\")\n",
        "print(top_spender)"
      ],
      "metadata": {
        "colab": {
          "base_uri": "https://localhost:8080/"
        },
        "id": "rPVYPrRgsOqu",
        "outputId": "69f737f9-9c16-4eea-ad9e-77f7338ac954"
      },
      "execution_count": 8,
      "outputs": [
        {
          "output_type": "stream",
          "name": "stdout",
          "text": [
            "⯑ Merged Dataset:\n",
            "   transaction_id  customer_id  amount    name     city\n",
            "0               1          101     200     Ram   Mumbai\n",
            "1               2          102     150     Jai    Delhi\n",
            "2               3          103     300  charan   Mumbai\n",
            "3               4          101     450     Ram   Mumbai\n",
            "4               5          104     500     Dev  Chennai\n",
            "5               6          102     100     Jai    Delhi\n",
            "6               7          105     250     kam    Delhi\n",
            "\n",
            "⯑ Total Spend per Customer:\n",
            "   customer_id    name  amount\n",
            "0          101     Ram     650\n",
            "1          102     Jai     250\n",
            "2          103  charan     300\n",
            "3          104     Dev     500\n",
            "4          105     kam     250\n",
            "\n",
            "⯑ City-wise Spending:\n",
            "      city  amount\n",
            "0  Chennai     500\n",
            "1    Delhi     500\n",
            "2   Mumbai     950\n",
            "\n",
            "⯑ Top Spender:\n",
            "   customer_id name  amount\n",
            "0          101  Ram     650\n"
          ]
        }
      ]
    },
    {
      "cell_type": "code",
      "source": [],
      "metadata": {
        "id": "10wO4PNTs-rm"
      },
      "execution_count": null,
      "outputs": []
    },
    {
      "cell_type": "code",
      "source": [
        "import pandas as pd\n",
        "# Step 1: Create Patients Dataset\n",
        "patients = pd.DataFrame({\n",
        " 'patient_id': [201, 202, 203, 204, 205],\n",
        " 'name': ['Arjun', 'Bhavya', 'Chirag', 'Deepa', 'Eshan'],\n",
        " 'age': [32, 45, 28, 36, 52],\n",
        " 'gender': ['M', 'F', 'M', 'F', 'M']\n",
        " }) # Step 2: Create Appointments Dataset\n",
        "appointments = pd.DataFrame({\n",
        " 'appointment_id': [1, 2, 3, 4, 5, 6, 7, 8],\n",
        " 'patient_id': [201, 202, 201, 204, 203, 205, 202, 202],\n",
        " 'doctor': ['Dr. Rao', 'Dr. Singh', 'Dr. Rao', 'Dr. Mehta', 'Dr.\\\n",
        "Singh', 'Dr. Mehta', 'Dr. Singh', 'Dr. Singh'],\n",
        " 'date': ['2025-09-01', '2025-09-01', '2025-09-05', '2025-09-02',\n",
        "'2025-09-03', '2025-09-06', '2025-09-08', '2025-09-10']  })"
      ],
      "metadata": {
        "id": "EaD5eaAIs-vW"
      },
      "execution_count": 10,
      "outputs": []
    },
    {
      "cell_type": "code",
      "source": [
        "# Step 3: Merge Datasets\n",
        "merged_df = pd.merge(appointments, patients, on='patient_id')\n",
        "print(\"⯑ Merged Dataset:\")\n",
        "print(merged_df)\n",
        "\n",
        "# Step 4: Count Appointments per Patient\n",
        "appointments_per_patient = merged_df.groupby(['patient_id', 'name'])['appointment_id'].count().reset_index(name='visit_count')\n",
        "print(\"\\n⯑ Appointments per Patient:\")\n",
        "print(appointments_per_patient)\n",
        "\n",
        "# Step 5: Group by Doctor (Workload)\n",
        "doctor_workload = merged_df.groupby('doctor')['appointment_id'].count().reset_index(name='appointment_count')\n",
        "print(\"\\n⯑⚕ Doctor Workload:\")\n",
        "print(doctor_workload)\n",
        "\n",
        "# Step 6: Find Patient with Max Visits\n",
        "top_patient = appointments_per_patient.sort_values(by='visit_count', ascending=False).head(1)\n",
        "print(\"\\n⯑ Most Frequent Patient:\")\n",
        "print(top_patient)"
      ],
      "metadata": {
        "colab": {
          "base_uri": "https://localhost:8080/"
        },
        "id": "WWemP_gus-yt",
        "outputId": "0aa51377-e923-4fbf-8091-045bd4e38496"
      },
      "execution_count": 12,
      "outputs": [
        {
          "output_type": "stream",
          "name": "stdout",
          "text": [
            "⯑ Merged Dataset:\n",
            "   appointment_id  patient_id     doctor        date    name  age gender\n",
            "0               1         201    Dr. Rao  2025-09-01   Arjun   32      M\n",
            "1               2         202  Dr. Singh  2025-09-01  Bhavya   45      F\n",
            "2               3         201    Dr. Rao  2025-09-05   Arjun   32      M\n",
            "3               4         204  Dr. Mehta  2025-09-02   Deepa   36      F\n",
            "4               5         203   Dr.Singh  2025-09-03  Chirag   28      M\n",
            "5               6         205  Dr. Mehta  2025-09-06   Eshan   52      M\n",
            "6               7         202  Dr. Singh  2025-09-08  Bhavya   45      F\n",
            "7               8         202  Dr. Singh  2025-09-10  Bhavya   45      F\n",
            "\n",
            "⯑ Appointments per Patient:\n",
            "   patient_id    name  visit_count\n",
            "0         201   Arjun            2\n",
            "1         202  Bhavya            3\n",
            "2         203  Chirag            1\n",
            "3         204   Deepa            1\n",
            "4         205   Eshan            1\n",
            "\n",
            "⯑⚕ Doctor Workload:\n",
            "      doctor  appointment_count\n",
            "0  Dr. Mehta                  2\n",
            "1    Dr. Rao                  2\n",
            "2  Dr. Singh                  3\n",
            "3   Dr.Singh                  1\n",
            "\n",
            "⯑ Most Frequent Patient:\n",
            "   patient_id    name  visit_count\n",
            "1         202  Bhavya            3\n"
          ]
        }
      ]
    },
    {
      "cell_type": "code",
      "source": [],
      "metadata": {
        "id": "wW40GD9ws-41"
      },
      "execution_count": null,
      "outputs": []
    }
  ]
}