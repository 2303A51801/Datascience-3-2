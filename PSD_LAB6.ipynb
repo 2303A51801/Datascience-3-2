{
  "nbformat": 4,
  "nbformat_minor": 0,
  "metadata": {
    "colab": {
      "provenance": [],
      "authorship_tag": "ABX9TyPCVlj11iwWmE83dHXCQKaq",
      "include_colab_link": true
    },
    "kernelspec": {
      "name": "python3",
      "display_name": "Python 3"
    },
    "language_info": {
      "name": "python"
    }
  },
  "cells": [
    {
      "cell_type": "markdown",
      "metadata": {
        "id": "view-in-github",
        "colab_type": "text"
      },
      "source": [
        "<a href=\"https://colab.research.google.com/github/2303A51801/Datascience-3-2/blob/main/PSD_LAB6.ipynb\" target=\"_parent\"><img src=\"https://colab.research.google.com/assets/colab-badge.svg\" alt=\"Open In Colab\"/></a>"
      ]
    },
    {
      "cell_type": "code",
      "execution_count": 6,
      "metadata": {
        "id": "uvvBjHtRDVgf"
      },
      "outputs": [],
      "source": [
        "import pandas as pd"
      ]
    },
    {
      "cell_type": "code",
      "source": [
        "data = {\n",
        "    \"Patient_ID\": range(1, 16),\n",
        "    \"Age\": [25, 34, 45, 67, 89, 120, 5, -3, 132, 54, 76, 29, 101, 38, 200]\n",
        "}\n",
        "\n",
        "df = pd.DataFrame(data)\n",
        "\n",
        "print(\"---- Original Dataset ----\")\n",
        "print(df)"
      ],
      "metadata": {
        "colab": {
          "base_uri": "https://localhost:8080/"
        },
        "id": "ZxWVGRfKDXg5",
        "outputId": "aeca24ab-10b5-46e9-8ad4-c7ce5966c79a"
      },
      "execution_count": 7,
      "outputs": [
        {
          "output_type": "stream",
          "name": "stdout",
          "text": [
            "---- Original Dataset ----\n",
            "    Patient_ID  Age\n",
            "0            1   25\n",
            "1            2   34\n",
            "2            3   45\n",
            "3            4   67\n",
            "4            5   89\n",
            "5            6  120\n",
            "6            7    5\n",
            "7            8   -3\n",
            "8            9  132\n",
            "9           10   54\n",
            "10          11   76\n",
            "11          12   29\n",
            "12          13  101\n",
            "13          14   38\n",
            "14          15  200\n"
          ]
        }
      ]
    },
    {
      "cell_type": "code",
      "source": [
        "valid_age_min = 0\n",
        "valid_age_max = 120\n",
        "\n",
        "# Step 3: Detect outliers (invalid ages)\n",
        "outliers = df[(df[\"Age\"] < valid_age_min) | (df[\"Age\"] > valid_age_max)]\n",
        "\n",
        "print(\"\\n---- Detected Outliers ----\")\n",
        "print(outliers)"
      ],
      "metadata": {
        "colab": {
          "base_uri": "https://localhost:8080/"
        },
        "id": "GLPjB_z0DXdp",
        "outputId": "f26bd3ba-f4cb-4cfc-db57-eb9c16f825a1"
      },
      "execution_count": 8,
      "outputs": [
        {
          "output_type": "stream",
          "name": "stdout",
          "text": [
            "\n",
            "---- Detected Outliers ----\n",
            "    Patient_ID  Age\n",
            "7            8   -3\n",
            "8            9  132\n",
            "14          15  200\n"
          ]
        }
      ]
    },
    {
      "cell_type": "code",
      "source": [
        "df_cleaned = df[(df[\"Age\"] >= valid_age_min) & (df[\"Age\"] <= valid_age_max)]"
      ],
      "metadata": {
        "id": "yKsfJcv1DXbd"
      },
      "execution_count": 9,
      "outputs": []
    },
    {
      "cell_type": "code",
      "source": [
        "print(\"\\n---- Cleaned Dataset ----\")\n",
        "print(df_cleaned)"
      ],
      "metadata": {
        "colab": {
          "base_uri": "https://localhost:8080/"
        },
        "id": "gUyKmN6FDXY-",
        "outputId": "df389b5a-a2bf-426a-ccf5-51c61de838d0"
      },
      "execution_count": 10,
      "outputs": [
        {
          "output_type": "stream",
          "name": "stdout",
          "text": [
            "\n",
            "---- Cleaned Dataset ----\n",
            "    Patient_ID  Age\n",
            "0            1   25\n",
            "1            2   34\n",
            "2            3   45\n",
            "3            4   67\n",
            "4            5   89\n",
            "5            6  120\n",
            "6            7    5\n",
            "9           10   54\n",
            "10          11   76\n",
            "11          12   29\n",
            "12          13  101\n",
            "13          14   38\n"
          ]
        }
      ]
    },
    {
      "cell_type": "code",
      "source": [],
      "metadata": {
        "id": "4lmLNyZlDXWP"
      },
      "execution_count": 10,
      "outputs": []
    },
    {
      "cell_type": "code",
      "source": [
        "import pandas as pd\n",
        "from sklearn.preprocessing import MinMaxScaler, StandardScaler\n",
        "\n",
        "# Step 1: Create a sample banking dataset with customer incomes\n",
        "data = {\n",
        "    \"Customer_ID\": range(1, 11),\n",
        "    \"Income\": [15000, 25000, 35000, 45000, 60000, 75000, 100000, 120000, 150000, 200000]\n",
        "}\n",
        "\n",
        "df = pd.DataFrame(data)\n",
        "\n",
        "print(\"---- Original Dataset ----\")\n",
        "print(df)\n",
        "\n",
        "# Step 2: Apply Min-Max Normalization\n",
        "scaler_minmax = MinMaxScaler()\n",
        "df[\"Income_MinMax\"] = scaler_minmax.fit_transform(df[[\"Income\"]])\n",
        "\n",
        "# Step 3: Apply Standardization (Z-score normalization)\n",
        "scaler_standard = StandardScaler()\n",
        "df[\"Income_Standardized\"] = scaler_standard.fit_transform(df[[\"Income\"]])\n",
        "\n",
        "print(\"\\n---- Dataset After Scaling ----\")\n",
        "print(df)\n"
      ],
      "metadata": {
        "colab": {
          "base_uri": "https://localhost:8080/"
        },
        "id": "Q8HY9yc7EGvU",
        "outputId": "a2251397-272c-43fb-83a3-2c38dd5c88bf"
      },
      "execution_count": 11,
      "outputs": [
        {
          "output_type": "stream",
          "name": "stdout",
          "text": [
            "---- Original Dataset ----\n",
            "   Customer_ID  Income\n",
            "0            1   15000\n",
            "1            2   25000\n",
            "2            3   35000\n",
            "3            4   45000\n",
            "4            5   60000\n",
            "5            6   75000\n",
            "6            7  100000\n",
            "7            8  120000\n",
            "8            9  150000\n",
            "9           10  200000\n",
            "\n",
            "---- Dataset After Scaling ----\n",
            "   Customer_ID  Income  Income_MinMax  Income_Standardized\n",
            "0            1   15000       0.000000            -1.190224\n",
            "1            2   25000       0.054054            -1.013895\n",
            "2            3   35000       0.108108            -0.837565\n",
            "3            4   45000       0.162162            -0.661236\n",
            "4            5   60000       0.243243            -0.396741\n",
            "5            6   75000       0.324324            -0.132247\n",
            "6            7  100000       0.459459             0.308577\n",
            "7            8  120000       0.567568             0.661236\n",
            "8            9  150000       0.729730             1.190224\n",
            "9           10  200000       1.000000             2.071872\n"
          ]
        }
      ]
    },
    {
      "cell_type": "code",
      "source": [],
      "metadata": {
        "id": "ou7AN84IEGyF"
      },
      "execution_count": null,
      "outputs": []
    },
    {
      "cell_type": "code",
      "source": [],
      "metadata": {
        "id": "Ots380gXEG1Z"
      },
      "execution_count": null,
      "outputs": []
    }
  ]
}