{
  "nbformat": 4,
  "nbformat_minor": 0,
  "metadata": {
    "colab": {
      "provenance": [],
      "authorship_tag": "ABX9TyOfN3JjzSDGDgzR4hdVdABy",
      "include_colab_link": true
    },
    "kernelspec": {
      "name": "python3",
      "display_name": "Python 3"
    },
    "language_info": {
      "name": "python"
    }
  },
  "cells": [
    {
      "cell_type": "markdown",
      "metadata": {
        "id": "view-in-github",
        "colab_type": "text"
      },
      "source": [
        "<a href=\"https://colab.research.google.com/github/2303A51801/Datascience-3-2/blob/main/Datascience03(7_8_25.ipynb\" target=\"_parent\"><img src=\"https://colab.research.google.com/assets/colab-badge.svg\" alt=\"Open In Colab\"/></a>"
      ]
    },
    {
      "cell_type": "code",
      "execution_count": null,
      "metadata": {
        "id": "sGkaaWgE83-V"
      },
      "outputs": [],
      "source": [
        "\n",
        "import numpy as np\n",
        "import pandas as pd\n"
      ]
    },
    {
      "cell_type": "code",
      "source": [],
      "metadata": {
        "id": "jqB8u2W2B8u2"
      },
      "execution_count": null,
      "outputs": []
    },
    {
      "cell_type": "code",
      "source": [],
      "metadata": {
        "id": "fxz68WLMB9tu"
      },
      "execution_count": null,
      "outputs": []
    },
    {
      "cell_type": "code",
      "source": [
        "marks = np.array([85, 90, 78, 92])\n",
        "print(\"Student Marks Array:\\n\", marks)"
      ],
      "metadata": {
        "colab": {
          "base_uri": "https://localhost:8080/"
        },
        "id": "95XqTKma-O8n",
        "outputId": "5e5371ea-5985-45c4-aa61-cdf74beb415c"
      },
      "execution_count": null,
      "outputs": [
        {
          "output_type": "stream",
          "name": "stdout",
          "text": [
            "Student Marks Array:\n",
            " [85 90 78 92]\n"
          ]
        }
      ]
    },
    {
      "cell_type": "code",
      "source": [
        "# Step 2: Calculate average, min, and max marks per student\n",
        "avg_marks = np.mean(marks)\n",
        "min_marks = np.min(marks)\n",
        "max_marks = np.max(marks)"
      ],
      "metadata": {
        "id": "LZopd80Z-PBf"
      },
      "execution_count": null,
      "outputs": []
    },
    {
      "cell_type": "code",
      "source": [
        "\n",
        "print(\"\\nAverage Marks per Student:\", avg_marks)\n",
        "print(\"Minimum Marks per Student:\", min_marks)\n",
        "print(\"Maximum Marks per Student:\", max_marks)"
      ],
      "metadata": {
        "colab": {
          "base_uri": "https://localhost:8080/"
        },
        "id": "kATksvgpAZxk",
        "outputId": "b0e7cce2-faf1-4586-c1c4-bb533dbd5587"
      },
      "execution_count": null,
      "outputs": [
        {
          "output_type": "stream",
          "name": "stdout",
          "text": [
            "\n",
            "Average Marks per Student: 86.25\n",
            "Minimum Marks per Student: 78\n",
            "Maximum Marks per Student: 92\n"
          ]
        }
      ]
    },
    {
      "cell_type": "code",
      "source": [
        "sliced_marks = marks[1:4]\n",
        "print(\"\\nMarks of Student 2 to 4:\\n\", sliced_marks)"
      ],
      "metadata": {
        "colab": {
          "base_uri": "https://localhost:8080/"
        },
        "id": "m6ngAcGOAZ02",
        "outputId": "18335bfa-09e2-4e83-e085-66532c50ad94"
      },
      "execution_count": null,
      "outputs": [
        {
          "output_type": "stream",
          "name": "stdout",
          "text": [
            "\n",
            "Marks of Student 2 to 4:\n",
            " [90 78 92]\n"
          ]
        }
      ]
    },
    {
      "cell_type": "code",
      "source": [
        "above_80 = marks[marks > 80]\n",
        "print(\"\\nStudents with any marks > 80:\\n\", above_80)"
      ],
      "metadata": {
        "colab": {
          "base_uri": "https://localhost:8080/"
        },
        "id": "fKtdkJeHAZ3r",
        "outputId": "6ee1ddfe-a1f8-4b63-ba3a-9b50c54552f3"
      },
      "execution_count": null,
      "outputs": [
        {
          "output_type": "stream",
          "name": "stdout",
          "text": [
            "\n",
            "Students with any marks > 80:\n",
            " [85 90 92]\n"
          ]
        }
      ]
    },
    {
      "cell_type": "code",
      "source": [
        "subject_wise = marks.T\n",
        "print(\"\\nSubject-wise Performance:\\n\", subject_wise)"
      ],
      "metadata": {
        "colab": {
          "base_uri": "https://localhost:8080/"
        },
        "id": "ijKr3vTPAZ5z",
        "outputId": "93717cf6-8ccd-4201-d108-bca5f4593c2a"
      },
      "execution_count": null,
      "outputs": [
        {
          "output_type": "stream",
          "name": "stdout",
          "text": [
            "\n",
            "Subject-wise Performance:\n",
            " [85 90 78 92]\n"
          ]
        }
      ]
    },
    {
      "cell_type": "code",
      "source": [
        "print(\"\\nSubject-wise Average Marks:\", avg_marks)\n",
        "print(\"Subject-wise Minimum Marks:\", min_marks)\n",
        "print(\"Subject-wise Maximum Marks:\", max_marks)"
      ],
      "metadata": {
        "colab": {
          "base_uri": "https://localhost:8080/"
        },
        "id": "UFLaTkODCHle",
        "outputId": "3b323a0b-c11a-46e5-9fff-04d6dc760693"
      },
      "execution_count": null,
      "outputs": [
        {
          "output_type": "stream",
          "name": "stdout",
          "text": [
            "\n",
            "Subject-wise Average Marks: 86.25\n",
            "Subject-wise Minimum Marks: 78\n",
            "Subject-wise Maximum Marks: 92\n"
          ]
        }
      ]
    }
  ]
}