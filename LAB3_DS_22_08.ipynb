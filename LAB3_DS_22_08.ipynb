{
  "nbformat": 4,
  "nbformat_minor": 0,
  "metadata": {
    "colab": {
      "provenance": [],
      "authorship_tag": "ABX9TyNXDQFToTBes66fJZmeIrc8",
      "include_colab_link": true
    },
    "kernelspec": {
      "name": "python3",
      "display_name": "Python 3"
    },
    "language_info": {
      "name": "python"
    }
  },
  "cells": [
    {
      "cell_type": "markdown",
      "metadata": {
        "id": "view-in-github",
        "colab_type": "text"
      },
      "source": [
        "<a href=\"https://colab.research.google.com/github/2303A51801/Datascience-3-2/blob/main/LAB3_DS_22_08.ipynb\" target=\"_parent\"><img src=\"https://colab.research.google.com/assets/colab-badge.svg\" alt=\"Open In Colab\"/></a>"
      ]
    },
    {
      "cell_type": "code",
      "execution_count": 1,
      "metadata": {
        "id": "9CHcgRql_BPF"
      },
      "outputs": [],
      "source": [
        "import numpy as np\n",
        "import matplotlib.pyplot as plt"
      ]
    },
    {
      "cell_type": "code",
      "source": [
        "np.random.seed(10)  # for reproducibility\n",
        "scores = np.random.randint(50, 100, size=(4, 4))  # Test scores between 50-100\n",
        "print(\"Test Scores (4x4):\\n\", scores)\n"
      ],
      "metadata": {
        "colab": {
          "base_uri": "https://localhost:8080/"
        },
        "id": "9u0GIQ9Z_SiB",
        "outputId": "f7482745-0aeb-4205-c736-b625b50deec3"
      },
      "execution_count": 4,
      "outputs": [
        {
          "output_type": "stream",
          "name": "stdout",
          "text": [
            "Test Scores (4x4):\n",
            " [[59 86 65 50]\n",
            " [99 78 75 79]\n",
            " [98 79 99 58]\n",
            " [59 50 92 90]]\n"
          ]
        }
      ]
    },
    {
      "cell_type": "code",
      "source": [
        "row_mean = np.mean(scores, axis=1)\n",
        "col_mean = np.mean(scores, axis=0)\n",
        "print(\"\\nRow-wise Mean:\", row_mean)\n",
        "print(\"Column-wise Mean:\", col_mean)\n"
      ],
      "metadata": {
        "colab": {
          "base_uri": "https://localhost:8080/"
        },
        "id": "ueOmQwHl_Slg",
        "outputId": "d88524e8-83f4-460e-f16e-60e17132cb84"
      },
      "execution_count": 5,
      "outputs": [
        {
          "output_type": "stream",
          "name": "stdout",
          "text": [
            "\n",
            "Row-wise Mean: [65.   82.75 83.5  72.75]\n",
            "Column-wise Mean: [78.75 73.25 82.75 69.25]\n"
          ]
        }
      ]
    },
    {
      "cell_type": "code",
      "source": [
        "std_dev = np.std(scores)\n",
        "variance = np.var(scores)\n",
        "print(\"\\nStandard Deviation:\", std_dev)\n",
        "print(\"Variance:\", variance)\n"
      ],
      "metadata": {
        "colab": {
          "base_uri": "https://localhost:8080/"
        },
        "id": "siyftV1H_Srk",
        "outputId": "5513e5a7-5fe1-45f0-891b-fd3d7d7bdd6a"
      },
      "execution_count": 6,
      "outputs": [
        {
          "output_type": "stream",
          "name": "stdout",
          "text": [
            "\n",
            "Standard Deviation: 16.75559608011604\n",
            "Variance: 280.75\n"
          ]
        }
      ]
    },
    {
      "cell_type": "code",
      "source": [
        "global_max = np.max(scores)\n",
        "global_min = np.min(scores)\n",
        "max_index = np.unravel_index(np.argmax(scores), scores.shape)\n",
        "min_index = np.unravel_index(np.argmin(scores), scores.shape)\n",
        "print(\"\\nGlobal Max:\", global_max, \"at index\", max_index)\n",
        "print(\"Global Min:\", global_min, \"at index\", min_index)\n",
        "\n"
      ],
      "metadata": {
        "colab": {
          "base_uri": "https://localhost:8080/"
        },
        "id": "3TvI0Ogq_Str",
        "outputId": "1fbff509-acac-42fc-de91-f502ab9569d0"
      },
      "execution_count": 7,
      "outputs": [
        {
          "output_type": "stream",
          "name": "stdout",
          "text": [
            "\n",
            "Global Max: 99 at index (np.int64(1), np.int64(0))\n",
            "Global Min: 50 at index (np.int64(0), np.int64(3))\n"
          ]
        }
      ]
    },
    {
      "cell_type": "code",
      "source": [
        "\n",
        "print(\"\\n--- Summary ---\")\n",
        "print(f\"Row-wise Mean Scores: {row_mean}\")\n",
        "print(f\"Column-wise Mean Scores: {col_mean}\")\n",
        "print(f\"Overall Standard Deviation: {std_dev:.2f}\")\n",
        "print(f\"Overall Variance: {variance:.2f}\")\n",
        "print(f\"Highest Score: {global_max} at {max_index}\")\n",
        "print(f\"Lowest Score: {global_min} at {min_index}\")"
      ],
      "metadata": {
        "colab": {
          "base_uri": "https://localhost:8080/"
        },
        "id": "d0FK0Cs2_SxP",
        "outputId": "3d366a9b-eef2-4d2a-b753-9f9d95ed8afe"
      },
      "execution_count": 8,
      "outputs": [
        {
          "output_type": "stream",
          "name": "stdout",
          "text": [
            "\n",
            "--- Summary ---\n",
            "Row-wise Mean Scores: [65.   82.75 83.5  72.75]\n",
            "Column-wise Mean Scores: [78.75 73.25 82.75 69.25]\n",
            "Overall Standard Deviation: 16.76\n",
            "Overall Variance: 280.75\n",
            "Highest Score: 99 at (np.int64(1), np.int64(0))\n",
            "Lowest Score: 50 at (np.int64(0), np.int64(3))\n"
          ]
        }
      ]
    }
  ]
}