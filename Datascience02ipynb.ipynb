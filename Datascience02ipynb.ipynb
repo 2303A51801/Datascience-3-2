{
  "nbformat": 4,
  "nbformat_minor": 0,
  "metadata": {
    "colab": {
      "provenance": [],
      "authorship_tag": "ABX9TyOwgeFmRH6ZQZQawuknd+bc",
      "include_colab_link": true
    },
    "kernelspec": {
      "name": "python3",
      "display_name": "Python 3"
    },
    "language_info": {
      "name": "python"
    }
  },
  "cells": [
    {
      "cell_type": "markdown",
      "metadata": {
        "id": "view-in-github",
        "colab_type": "text"
      },
      "source": [
        "<a href=\"https://colab.research.google.com/github/2303A51801/Datascience-3-2/blob/main/Datascience02ipynb.ipynb\" target=\"_parent\"><img src=\"https://colab.research.google.com/assets/colab-badge.svg\" alt=\"Open In Colab\"/></a>"
      ]
    },
    {
      "cell_type": "code",
      "execution_count": null,
      "metadata": {
        "id": "e8HRQ6eo38tf"
      },
      "outputs": [],
      "source": [
        "import numpy as np\n",
        "import pandas as pd\n",
        "\n"
      ]
    },
    {
      "cell_type": "code",
      "source": [
        "arr = np.array([10, 20, 30, 40, 50])\n",
        "print('Original Array:', arr)\n"
      ],
      "metadata": {
        "colab": {
          "base_uri": "https://localhost:8080/"
        },
        "id": "BiBzsr3b4S0M",
        "outputId": "85388f79-488a-4cb3-bccc-027c1fcedc72"
      },
      "execution_count": null,
      "outputs": [
        {
          "output_type": "stream",
          "name": "stdout",
          "text": [
            "Original Array: [10 20 30 40 50]\n"
          ]
        }
      ]
    },
    {
      "cell_type": "code",
      "source": [
        "arr + 5 # Add 5 to each element\n",
        "arr * 2 #Multiply each element by 2\n",
        "arr[arr > 25] #Filter elements > 25\n",
        "arr[arr % 2 == 0] # Filter even elements"
      ],
      "metadata": {
        "colab": {
          "base_uri": "https://localhost:8080/"
        },
        "id": "HhofLdDQ4S4O",
        "outputId": "32c471ea-be6f-4ac1-df4e-afffe267a425"
      },
      "execution_count": null,
      "outputs": [
        {
          "output_type": "execute_result",
          "data": {
            "text/plain": [
              "array([10, 20, 30, 40, 50])"
            ]
          },
          "metadata": {},
          "execution_count": 4
        }
      ]
    },
    {
      "cell_type": "code",
      "source": [
        "\n",
        "data = {\n",
        "    'Name': ['Alice', 'Bob', 'Charlie', 'David'],\n",
        "    'Age': [25, 30, 35, 40],\n",
        "    'Score': [85.5, 92.0, 88.0, 76.5]\n",
        "}\n"
      ],
      "metadata": {
        "id": "Nm-sfMVL4S8L"
      },
      "execution_count": null,
      "outputs": []
    },
    {
      "cell_type": "code",
      "source": [
        "df=pd.DataFrame(data)\n",
        "print(df)"
      ],
      "metadata": {
        "colab": {
          "base_uri": "https://localhost:8080/"
        },
        "id": "LOP3PYGd5Xji",
        "outputId": "feba8811-b0c4-41bc-8499-79a1f6393e61"
      },
      "execution_count": null,
      "outputs": [
        {
          "output_type": "stream",
          "name": "stdout",
          "text": [
            "      Name  Age  Score\n",
            "0    Alice   25   85.5\n",
            "1      Bob   30   92.0\n",
            "2  Charlie   35   88.0\n",
            "3    David   40   76.5\n"
          ]
        }
      ]
    },
    {
      "cell_type": "code",
      "source": [
        "df['Passed'] = df['Score'] >= 80\n",
        "print(\"\\nDataFrame with 'Passed' column:\\n\", df)\n",
        "\n",
        "# Filter rows where Age > 30\n",
        "older_students = df[df['Age'] > 30]\n",
        "print(\"\\nStudents older than 30:\\n\", older_students)\n",
        "\n",
        "# Calculate average score\n",
        "average_score = df['Score'].mean()\n",
        "print(\"\\nAverage Score:\", average_score)"
      ],
      "metadata": {
        "colab": {
          "base_uri": "https://localhost:8080/"
        },
        "id": "rD_9ppwM6fhe",
        "outputId": "11e74ff0-5c6f-4bc0-8184-33283c82c248"
      },
      "execution_count": null,
      "outputs": [
        {
          "output_type": "stream",
          "name": "stdout",
          "text": [
            "\n",
            "DataFrame with 'Passed' column:\n",
            "       Name  Age  Score  Passed\n",
            "0    Alice   25   85.5    True\n",
            "1      Bob   30   92.0    True\n",
            "2  Charlie   35   88.0    True\n",
            "3    David   40   76.5   False\n",
            "\n",
            "Students older than 30:\n",
            "       Name  Age  Score  Passed\n",
            "2  Charlie   35   88.0    True\n",
            "3    David   40   76.5   False\n",
            "\n",
            "Average Score: 85.5\n"
          ]
        }
      ]
    },
    {
      "cell_type": "code",
      "source": [
        "data = {'Name': ['Alice', 'Bob', 'Charlie', 'David'], 'Age': [25, 30, 35, 40], 'Score': [85.5, 92.0, 88.0, 76.5]}\n",
        "df = pd.DataFrame(data)\n",
        "print(df)"
      ],
      "metadata": {
        "colab": {
          "base_uri": "https://localhost:8080/"
        },
        "id": "Tmj1ixUq5Xrx",
        "outputId": "cd8e7e1c-b84b-4761-d91f-24cb9468b6c2"
      },
      "execution_count": null,
      "outputs": [
        {
          "output_type": "stream",
          "name": "stdout",
          "text": [
            "      Name  Age  Score\n",
            "0    Alice   25   85.5\n",
            "1      Bob   30   92.0\n",
            "2  Charlie   35   88.0\n",
            "3    David   40   76.5\n"
          ]
        }
      ]
    },
    {
      "cell_type": "code",
      "source": [
        "df['Passed'] = df['Score'] >= 80\n",
        "Filter: df[df['Age'] > 30]\n",
        "Average: df['Score'].mean()\n"
      ],
      "metadata": {
        "id": "MVMazpwh8Hvq"
      },
      "execution_count": null,
      "outputs": []
    },
    {
      "cell_type": "code",
      "source": [],
      "metadata": {
        "id": "Y084Q1285Xz5"
      },
      "execution_count": null,
      "outputs": []
    }
  ]
}